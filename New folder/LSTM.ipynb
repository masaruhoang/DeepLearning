{
 "cells": [
  {
   "cell_type": "code",
   "execution_count": 1,
   "metadata": {},
   "outputs": [
    {
     "data": {
      "text/plain": [
       "<torch._C.Generator at 0x25ff59fbf90>"
      ]
     },
     "execution_count": 1,
     "metadata": {},
     "output_type": "execute_result"
    }
   ],
   "source": [
    "import torch\n",
    "import torch.nn as nn\n",
    "import torch.nn.functional as F\n",
    "import torch.optim as optim\n",
    "\n",
    "torch.manual_seed(1)"
   ]
  },
  {
   "cell_type": "code",
   "execution_count": 2,
   "metadata": {},
   "outputs": [
    {
     "name": "stdout",
     "output_type": "stream",
     "text": [
      "INPUT: \n",
      "[tensor([[-0.5525,  0.6355, -0.3968]]), tensor([[-0.6571, -1.6428,  0.9803]]), tensor([[-0.0421, -0.8206,  0.3133]]), tensor([[-1.1352,  0.3773, -0.2824]]), tensor([[-2.5667, -1.4303,  0.5009]])]\n",
      "I View:\n",
      "tensor([[[-0.5525,  0.6355, -0.3968]]])\n",
      "OUT:\n",
      "tensor([[[-0.2682,  0.0304, -0.1526]]])\n",
      "HIDDEN:\n",
      "(tensor([[[-0.2682,  0.0304, -0.1526]]]), tensor([[[-1.0766,  0.0972, -0.5498]]]))\n",
      "------------------\n",
      "\n",
      "I View:\n",
      "tensor([[[-0.6571, -1.6428,  0.9803]]])\n",
      "OUT:\n",
      "tensor([[[-0.5370,  0.0346, -0.1958]]])\n",
      "HIDDEN:\n",
      "(tensor([[[-0.5370,  0.0346, -0.1958]]]), tensor([[[-1.1552,  0.1214, -0.2974]]]))\n",
      "------------------\n",
      "\n",
      "I View:\n",
      "tensor([[[-0.0421, -0.8206,  0.3133]]])\n",
      "OUT:\n",
      "tensor([[[-0.3947,  0.0391, -0.1217]]])\n",
      "HIDDEN:\n",
      "(tensor([[[-0.3947,  0.0391, -0.1217]]]), tensor([[[-1.0727,  0.1104, -0.2179]]]))\n",
      "------------------\n",
      "\n",
      "I View:\n",
      "tensor([[[-1.1352,  0.3773, -0.2824]]])\n",
      "OUT:\n",
      "tensor([[[-0.1854,  0.0740, -0.0979]]])\n",
      "HIDDEN:\n",
      "(tensor([[[-0.1854,  0.0740, -0.0979]]]), tensor([[[-1.0530,  0.1836, -0.1731]]]))\n",
      "------------------\n",
      "\n",
      "I View:\n",
      "tensor([[[-2.5667, -1.4303,  0.5009]]])\n",
      "OUT:\n",
      "tensor([[[-0.3600,  0.0893,  0.0215]]])\n",
      "HIDDEN:\n",
      "(tensor([[[-0.3600,  0.0893,  0.0215]]]), tensor([[[-1.1298,  0.4467,  0.0254]]]))\n",
      "------------------\n",
      "\n"
     ]
    }
   ],
   "source": [
    "lstm = nn.LSTM(3, 3) # Input dim is 3, output dim is 3\n",
    "inputs = [torch.randn(1, 3) for _ in range(5)] #Make a sequence of length 5\n",
    "print('INPUT: ')\n",
    "print(inputs, end= '\\n')\n",
    "# Initialize the hidden state\n",
    "hidden = (torch.randn(1, 1, 3),\n",
    "          torch.randn(1, 1, 3))\n",
    "\n",
    "for i in inputs:\n",
    "    # Step through the sequence one element at a time\n",
    "    # after each step, hidden contains the hidden state\n",
    "    out, hidden = lstm(i.view(1, 1, -1), hidden)\n",
    "    \n",
    "    print('I View:')\n",
    "    print(i.view(1, 1, -1))\n",
    "    \n",
    "    print('OUT:')\n",
    "    print(out)\n",
    "\n",
    "    print('HIDDEN:')\n",
    "    print(hidden)\n",
    "\n",
    "\n",
    "    print('------------------\\n')"
   ]
  },
  {
   "cell_type": "code",
   "execution_count": 3,
   "metadata": {},
   "outputs": [
    {
     "name": "stdout",
     "output_type": "stream",
     "text": [
      "tensor([[[-0.0187,  0.1713, -0.2944]],\n",
      "\n",
      "        [[-0.3521,  0.1026, -0.2971]],\n",
      "\n",
      "        [[-0.3191,  0.0781, -0.1957]],\n",
      "\n",
      "        [[-0.1634,  0.0941, -0.1637]],\n",
      "\n",
      "        [[-0.3368,  0.0959, -0.0538]]])\n",
      "(tensor([[[-0.3368,  0.0959, -0.0538]]]), tensor([[[-0.9825,  0.4715, -0.0633]]]))\n"
     ]
    }
   ],
   "source": [
    "inputs = torch.cat(inputs).view(len(inputs), 1, -1)\n",
    "hidden = (torch.randn(1, 1, 3), torch.randn(1, 1, 3)) # CLean out hidden state\n",
    "out, hidden = lstm(inputs, hidden)\n",
    "print(out)\n",
    "print(hidden)"
   ]
  },
  {
   "cell_type": "markdown",
   "metadata": {},
   "source": [
    "# Example: An LSTM for Part-of-Speech Tagging"
   ]
  },
  {
   "cell_type": "code",
   "execution_count": 15,
   "metadata": {},
   "outputs": [
    {
     "name": "stdout",
     "output_type": "stream",
     "text": [
      "['The', 'dog', 'ate', 'the', 'apple']\n",
      "\n",
      "\n",
      "['DET', 'NN', 'V', 'DET', 'NN']\n",
      "['Everybody', 'read', 'that', 'book']\n",
      "\n",
      "\n",
      "['NN', 'V', 'DET', 'NN']\n",
      "{'that': 7, 'ate': 2, 'apple': 4, 'book': 8, 'read': 6, 'Everybody': 5, 'dog': 1, 'The': 0, 'the': 3}\n"
     ]
    }
   ],
   "source": [
    "def prepare_sequence(seq, to_ix):\n",
    "    idxs = [to_ix[w] for w in seq]\n",
    "    return torch.tensor(idxs, dtype=torch.long)\n",
    "\n",
    "training_data = [\n",
    "    (\"The dog ate the apple\".split(), [\"DET\", \"NN\", \"V\", \"DET\", \"NN\"]),\n",
    "    (\"Everybody read that book\".split(), [\"NN\", \"V\", \"DET\", \"NN\"])\n",
    "]\n",
    "\n",
    "word_to_ix = {}\n",
    "for sent, tags in training_data:\n",
    "    print(sent)\n",
    "    print('\\n')\n",
    "    print( tags)\n",
    "    for word in sent:\n",
    "        if word not in word_to_ix:\n",
    "            word_to_ix[word] = len(word_to_ix)\n",
    "print(word_to_ix)\n",
    "tag_to_ix = {\"DET\" : 0, \"NN\": 1, \"V\": 2}\n",
    "\n",
    "# These will usually be more like 32 or 64 dimensional.\n",
    "# We will keep them small, so we can see how the weights change as we train.\n",
    "EMBEDDING_DIM = 6\n",
    "HIDDEN_DIM = 6"
   ]
  },
  {
   "cell_type": "code",
   "execution_count": 5,
   "metadata": {},
   "outputs": [
    {
     "data": {
      "text/plain": [
       "[(['The', 'dog', 'ate', 'the', 'apple'], ['DET', 'NN', 'V', 'DET', 'NN']),\n",
       " (['Everybody', 'read', 'that', 'book'], ['NN', 'V', 'DET', 'NN'])]"
      ]
     },
     "execution_count": 5,
     "metadata": {},
     "output_type": "execute_result"
    }
   ],
   "source": [
    "training_data"
   ]
  },
  {
   "cell_type": "markdown",
   "metadata": {},
   "source": [
    "# Create The Model"
   ]
  },
  {
   "cell_type": "code",
   "execution_count": 10,
   "metadata": {},
   "outputs": [],
   "source": [
    "class LSTMTagger(nn.Module):\n",
    "    \n",
    "    def __init__(self, embedding_dim, hidden_dim, vocab_size, tagset_size):\n",
    "        super(LSTMTagger, self).__init__()\n",
    "        self.hidden_dim = hidden_dim\n",
    "        \n",
    "        self.word_embeddings = nn.Embedding(vocab_size, embedding_dim)\n",
    "        # The LSTM takes word embeddings as inputs, and outputs hidden states\n",
    "        # with dimensionality hidden_dim.\n",
    "        self.lstm = nn.LSTM(embedding_dim, hidden_dim)\n",
    "        \n",
    "        # The linear layer that maps from hidden state space to tag space\n",
    "        self.hidden2tag = nn.Linear(hidden_dim, tagset_size)\n",
    "        self.hidden = self.init_hidden()\n",
    "    \n",
    "    def init_hidden(self):\n",
    "        # Before we've done anything, we dont have any hidden state.\n",
    "        # Refer to the Pytorch documentation to see exactly\n",
    "        # why they have this dimensionality.\n",
    "        # The axes semantics are (num_layers, minibatch_size, hidden_dim)\n",
    "        return (torch.zeros(1, 1, self.hidden_dim),\n",
    "                torch.zeros(1, 1, self.hidden_dim))\n",
    "    \n",
    "    def forward(self, sentence):\n",
    "        embeds = self.word_embeddings(sentence)\n",
    "        lstm_out, self.hidden = self.lstm(\n",
    "                    embeds.view(len(sentence), 1, -1), self.hidden)\n",
    "        tag_space = self.hidden2tag(lstm_out.view(len(sentence), -1))\n",
    "        tag_scores = F.log_softmax(tag_space, dim= 1)\n",
    "        return tag_scores"
   ]
  },
  {
   "cell_type": "markdown",
   "metadata": {},
   "source": [
    "# Train The Model"
   ]
  },
  {
   "cell_type": "code",
   "execution_count": 17,
   "metadata": {},
   "outputs": [
    {
     "name": "stdout",
     "output_type": "stream",
     "text": [
      "Scores before training\n",
      "tensor([[-1.3226, -0.8678, -1.1594],\n",
      "        [-1.3887, -0.8316, -1.1543],\n",
      "        [-1.3817, -0.8192, -1.1775],\n",
      "        [-1.1885, -0.9154, -1.2209],\n",
      "        [-1.2450, -0.8572, -1.2458]])\n",
      "\n",
      "Scores after training\n",
      "tensor([[-0.0590, -3.1675, -4.1870],\n",
      "        [-5.8233, -0.0118, -4.7413],\n",
      "        [-3.3344, -4.0328, -0.0548],\n",
      "        [-0.0161, -4.8020, -4.8530],\n",
      "        [-5.4424, -0.0119, -4.8920]])\n"
     ]
    }
   ],
   "source": [
    "model = LSTMTagger(EMBEDDING_DIM, HIDDEN_DIM, len(word_to_ix), len(tag_to_ix))\n",
    "loss_func = nn.NLLLoss()\n",
    "optimizer = optim.SGD(model.parameters(), lr= 0.1)\n",
    "\n",
    "\n",
    "# See what the scores are before training\n",
    "# Note that element i,j of the output is the score for tag j for word i.\n",
    "# Here we don't need to train, so the code is wrapped in torch.no_grad()\n",
    "with torch.no_grad():\n",
    "    inputs = prepare_sequence(training_data[0][0], word_to_ix)\n",
    "    tag_scores = model(inputs)\n",
    "    print('Scores before training')\n",
    "    print(tag_scores)\n",
    "    \n",
    "# again, normally you would NOT do 300 epochs, it is toy data    \n",
    "for epoch in range(300):\n",
    "    for sentence, tags in training_data:\n",
    "        #Step 1: Accumulates Gradients\n",
    "        # We need to clear them out before each instance\n",
    "        model.zero_grad()\n",
    "        \n",
    "        #Also, we need to clear out the hidden state of the LSTM,\n",
    "        # Detaching it from its history on the las instance\n",
    "        model.hidden = model.init_hidden()\n",
    "        \n",
    "        #Step 2: Get our inputs ready for the network, that is, \n",
    "        #turn them into Tensor of word indices\n",
    "        sentence_in = prepare_sequence(sentence, word_to_ix)\n",
    "        targets = prepare_sequence(tags, tag_to_ix)\n",
    "        \n",
    "        # Step 3: Run our forward pass\n",
    "        tag_scores = model(sentence_in)\n",
    "        \n",
    "        # Step 4: Compute the loss, gradients, and update the\n",
    "        # params by calling optimizer.step()\n",
    "        loss = loss_func(tag_scores, targets)\n",
    "        loss.backward()\n",
    "        optimizer.step()\n",
    "\n",
    "# See what the scores are after training\n",
    "with torch.no_grad():\n",
    "    inputs = prepare_sequence(training_data[0][0], word_to_ix)\n",
    "    tag_scores = model(inputs)\n",
    "    \n",
    "    # The sentence is \"the dog ate the apple\".  i,j corresponds to score for tag j\n",
    "    # for word i. The predicted tag is the maximum scoring tag.\n",
    "    # Here, we can see the predicted sequence below is 0 1 2 0 1\n",
    "    # since 0 is index of the maximum value of row 1,\n",
    "    # 1 is the index of maximum value of row 2, etc.\n",
    "    # Which is DET NOUN VERB DET NOUN, the correct sequence!\n",
    "    print('\\nScores after training')\n",
    "    print(tag_scores)    \n",
    "        "
   ]
  },
  {
   "cell_type": "code",
   "execution_count": null,
   "metadata": {},
   "outputs": [],
   "source": []
  }
 ],
 "metadata": {
  "kernelspec": {
   "display_name": "Python 3",
   "language": "python",
   "name": "python3"
  },
  "language_info": {
   "codemirror_mode": {
    "name": "ipython",
    "version": 3
   },
   "file_extension": ".py",
   "mimetype": "text/x-python",
   "name": "python",
   "nbconvert_exporter": "python",
   "pygments_lexer": "ipython3",
   "version": "3.5.5"
  }
 },
 "nbformat": 4,
 "nbformat_minor": 2
}
