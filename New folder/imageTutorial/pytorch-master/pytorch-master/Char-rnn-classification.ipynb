{
 "cells": [
  {
   "cell_type": "code",
   "execution_count": 173,
   "metadata": {
    "collapsed": true
   },
   "outputs": [],
   "source": [
    "import glob\n",
    "\n",
    "import unicodedata\n",
    "import string\n",
    "\n",
    "import torch\n",
    "import torch.nn as nn\n",
    "from torch.autograd import Variable\n",
    "\n",
    "import time \n",
    "import math\n",
    "import matplotlib.pyplot as plt\n",
    "import matplotlib.ticker as ticker\n",
    "%matplotlib inline\n",
    "\n",
    "import random"
   ]
  },
  {
   "cell_type": "code",
   "execution_count": 2,
   "metadata": {
    "collapsed": true
   },
   "outputs": [],
   "source": [
    "all_filenames = glob.glob('data/names/*.txt')"
   ]
  },
  {
   "cell_type": "code",
   "execution_count": 3,
   "metadata": {},
   "outputs": [
    {
     "name": "stdout",
     "output_type": "stream",
     "text": [
      "Slusarski\n"
     ]
    }
   ],
   "source": [
    "#Convert unicode to plain ASCII\n",
    "all_letters = string.ascii_letters + \" .,;'\"\n",
    "n_letters = len(all_letters)\n",
    "\n",
    "# Turn a Unicode string to plain ASCII, thanks to http://stackoverflow.com/a/518232/2809427\n",
    "def unicode_to_ascii(s):\n",
    "    return ''.join(\n",
    "        c for c in unicodedata.normalize('NFD', s)\n",
    "        if unicodedata.category(c) != 'Mn'\n",
    "        and c in all_letters\n",
    "    )\n",
    "\n",
    "print(unicode_to_ascii('Ślusàrski'))"
   ]
  },
  {
   "cell_type": "code",
   "execution_count": 4,
   "metadata": {
    "collapsed": true
   },
   "outputs": [],
   "source": [
    "category_lines = {}\n",
    "all_categories = []"
   ]
  },
  {
   "cell_type": "code",
   "execution_count": 5,
   "metadata": {
    "collapsed": true
   },
   "outputs": [],
   "source": [
    "def read_names(filename):\n",
    "    names = open(filename).read().strip().split('\\n')\n",
    "    return [unicode_to_ascii(name) for name in names]\n",
    "    "
   ]
  },
  {
   "cell_type": "code",
   "execution_count": 6,
   "metadata": {
    "collapsed": true
   },
   "outputs": [],
   "source": [
    "for filename in all_filenames:\n",
    "    lang_name = filename.split('/')[-1].split('.')[0]\n",
    "    all_categories.append(lang_name)\n",
    "    names = read_names(filename)\n",
    "    category_lines[lang_name] = names\n",
    "    \n",
    "n_categories = len(all_categories)"
   ]
  },
  {
   "cell_type": "code",
   "execution_count": 7,
   "metadata": {},
   "outputs": [
    {
     "name": "stdout",
     "output_type": "stream",
     "text": [
      "lenght of categories 18\n"
     ]
    }
   ],
   "source": [
    "print(f'lenght of categories {len(all_categories)}')"
   ]
  },
  {
   "cell_type": "code",
   "execution_count": 8,
   "metadata": {},
   "outputs": [
    {
     "data": {
      "text/plain": [
       "57"
      ]
     },
     "execution_count": 8,
     "metadata": {},
     "output_type": "execute_result"
    }
   ],
   "source": [
    "n_letters"
   ]
  },
  {
   "cell_type": "code",
   "execution_count": 9,
   "metadata": {},
   "outputs": [
    {
     "data": {
      "text/plain": [
       "\"abcdefghijklmnopqrstuvwxyzABCDEFGHIJKLMNOPQRSTUVWXYZ .,;'\""
      ]
     },
     "execution_count": 9,
     "metadata": {},
     "output_type": "execute_result"
    }
   ],
   "source": [
    "all_letters"
   ]
  },
  {
   "cell_type": "code",
   "execution_count": 10,
   "metadata": {
    "collapsed": true
   },
   "outputs": [],
   "source": [
    "\n",
    "def letter_to_tensor(char):\n",
    "    tensor = torch.zeros(1,n_letters)\n",
    "    char_index = all_letters.find(char)\n",
    "    tensor[0][char_index] = 1\n",
    "    return tensor\n"
   ]
  },
  {
   "cell_type": "code",
   "execution_count": 11,
   "metadata": {
    "collapsed": true
   },
   "outputs": [],
   "source": [
    "line = 'ab'\n",
    "def line_to_tensor(line):\n",
    "    tensor = torch.zeros(len(line),1,n_letters)\n",
    "    for li,char in enumerate(line):\n",
    "        char_index = all_letters.find(char)\n",
    "        tensor[li][0][char_index] = 1\n",
    "    return tensor\n"
   ]
  },
  {
   "cell_type": "code",
   "execution_count": 12,
   "metadata": {},
   "outputs": [
    {
     "data": {
      "text/plain": [
       "torch.Size([6, 1, 57])"
      ]
     },
     "execution_count": 12,
     "metadata": {},
     "output_type": "execute_result"
    }
   ],
   "source": [
    "line_to_tensor('vishnu').size()"
   ]
  },
  {
   "cell_type": "code",
   "execution_count": 13,
   "metadata": {
    "collapsed": true
   },
   "outputs": [],
   "source": [
    "class RNN(nn.Module):\n",
    "    def __init__(self,input_size,hidden_size,output_size):\n",
    "        super(RNN,self).__init__()\n",
    "        \n",
    "        self.input_size = input_size\n",
    "        self.hidden_size = hidden_size\n",
    "        self.output_size = output_size\n",
    "        \n",
    "        self.i2h = nn.Linear(input_size+hidden_size,hidden_size)\n",
    "        self.i2o = nn.Linear(input_size+hidden_size,output_size)\n",
    "        self.softmax = nn.LogSoftmax()\n",
    "        \n",
    "        \n",
    "    def forward(self,input,hidden):\n",
    "        comined = torch.cat((input,hidden),1)\n",
    "        hidden = self.i2h(comined)\n",
    "        output = self.i2o(comined)\n",
    "        output = self.softmax(output)\n",
    "        return output,hidden\n",
    "    \n",
    "    def init_hidden(self):\n",
    "        return Variable(torch.zeros(1,self.hidden_size))\n",
    "        \n",
    "        "
   ]
  },
  {
   "cell_type": "code",
   "execution_count": 14,
   "metadata": {
    "collapsed": true
   },
   "outputs": [],
   "source": [
    "n_hidden = 128\n",
    "rnn = RNN(n_letters,n_hidden,n_categories)"
   ]
  },
  {
   "cell_type": "code",
   "execution_count": 23,
   "metadata": {
    "collapsed": true
   },
   "outputs": [],
   "source": [
    "class RNN(nn.Module):\n",
    "    def __init__(self,input_size,hidden_size,output_size):\n",
    "        super(RNN,self).__init__()\n",
    "        self.input_size = input_size\n",
    "        self.hidden_size = hidden_size\n",
    "        self.output_size = output_size\n",
    "        self.i2h = nn.Linear(input_size+hidden_size,hidden_size)\n",
    "        self.i2o = nn.Linear(input_size+hidden_size,output_size)\n",
    "        self.softmax = nn.LogSoftmax()\n",
    "    \n",
    "    def forward(self,input,hidden):\n",
    "        x = torch.cat((input,hidden),1)\n",
    "        hidden = self.i2h(x)\n",
    "        output = self.i2o(x)\n",
    "        output = self.softmax(output)\n",
    "        return output,hidden\n",
    "\n",
    "    def init_hidden(self):\n",
    "        return Variable(torch.zeros(1,hidden_size))\n",
    "        "
   ]
  },
  {
   "cell_type": "code",
   "execution_count": 25,
   "metadata": {
    "collapsed": true
   },
   "outputs": [],
   "source": [
    "hidden_size = 128\n",
    "rnn = RNN(n_letters,hidden_size,n_categories)"
   ]
  },
  {
   "cell_type": "code",
   "execution_count": 26,
   "metadata": {
    "collapsed": true
   },
   "outputs": [],
   "source": [
    "inp = Variable(letter_to_tensor('A'))\n",
    "hidden = Variable(torch.zeros(1,hidden_size))\n",
    "outp, hidd = rnn(inp,hidden)"
   ]
  },
  {
   "cell_type": "code",
   "execution_count": 27,
   "metadata": {},
   "outputs": [
    {
     "data": {
      "text/plain": [
       "Variable containing:\n",
       "\n",
       "Columns 0 to 9 \n",
       "-2.8384 -2.8594 -2.8318 -2.9425 -2.8495 -3.0024 -2.9488 -2.9040 -2.8713 -2.8250\n",
       "\n",
       "Columns 10 to 17 \n",
       "-2.9511 -2.9021 -2.8140 -2.8510 -2.8696 -2.8828 -2.9927 -2.9176\n",
       "[torch.FloatTensor of size 1x18]"
      ]
     },
     "execution_count": 27,
     "metadata": {},
     "output_type": "execute_result"
    }
   ],
   "source": [
    "outp"
   ]
  },
  {
   "cell_type": "code",
   "execution_count": 31,
   "metadata": {
    "collapsed": true
   },
   "outputs": [],
   "source": [
    "rnn = RNN(n_letters,hidden_size,n_categories)\n",
    "inp = Variable(line_to_tensor('vishnu'))\n",
    "hidn = rnn.init_hidden()\n",
    "outp , hidn = rnn(inp[0],hidn)"
   ]
  },
  {
   "cell_type": "code",
   "execution_count": 32,
   "metadata": {},
   "outputs": [
    {
     "data": {
      "text/plain": [
       "Variable containing:\n",
       "\n",
       "Columns 0 to 9 \n",
       "-2.8429 -2.8123 -2.8792 -3.0119 -3.0048 -2.7906 -2.9181 -2.9575 -2.9096 -2.9872\n",
       "\n",
       "Columns 10 to 17 \n",
       "-2.8065 -2.9128 -2.8506 -2.8873 -2.9174 -2.8488 -2.9212 -2.8080\n",
       "[torch.FloatTensor of size 1x18]"
      ]
     },
     "execution_count": 32,
     "metadata": {},
     "output_type": "execute_result"
    }
   ],
   "source": [
    "outp"
   ]
  },
  {
   "cell_type": "code",
   "execution_count": 33,
   "metadata": {},
   "outputs": [
    {
     "data": {
      "text/plain": [
       "18"
      ]
     },
     "execution_count": 33,
     "metadata": {},
     "output_type": "execute_result"
    }
   ],
   "source": [
    "n_categories"
   ]
  },
  {
   "cell_type": "code",
   "execution_count": 39,
   "metadata": {
    "collapsed": true
   },
   "outputs": [],
   "source": [
    "top_v,top_i = outp.data.topk(1)"
   ]
  },
  {
   "cell_type": "code",
   "execution_count": 40,
   "metadata": {},
   "outputs": [
    {
     "data": {
      "text/plain": [
       "\n",
       " 5\n",
       "[torch.LongTensor of size 1x1]"
      ]
     },
     "execution_count": 40,
     "metadata": {},
     "output_type": "execute_result"
    }
   ],
   "source": [
    "top_i"
   ]
  },
  {
   "cell_type": "code",
   "execution_count": 43,
   "metadata": {},
   "outputs": [
    {
     "data": {
      "text/plain": [
       "'f'"
      ]
     },
     "execution_count": 43,
     "metadata": {},
     "output_type": "execute_result"
    }
   ],
   "source": [
    "all_letters[top_i[0][0]]"
   ]
  },
  {
   "cell_type": "code",
   "execution_count": 44,
   "metadata": {
    "collapsed": true
   },
   "outputs": [],
   "source": [
    "def category_from_tensor(output):\n",
    "    top_v,top_i = output.data.topk(1)\n",
    "    category_index = top_i[0][0]\n",
    "    category = all_categories[category_index]\n",
    "    return category,category_index"
   ]
  },
  {
   "cell_type": "code",
   "execution_count": 45,
   "metadata": {},
   "outputs": [
    {
     "data": {
      "text/plain": [
       "('Arabic', 5)"
      ]
     },
     "execution_count": 45,
     "metadata": {},
     "output_type": "execute_result"
    }
   ],
   "source": [
    "category_from_tensor(outp)"
   ]
  },
  {
   "cell_type": "code",
   "execution_count": 50,
   "metadata": {
    "collapsed": true
   },
   "outputs": [],
   "source": [
    "category = random.choice(all_categories)"
   ]
  },
  {
   "cell_type": "code",
   "execution_count": 51,
   "metadata": {
    "collapsed": true
   },
   "outputs": [],
   "source": [
    "line = random.choice(category_lines[category])"
   ]
  },
  {
   "cell_type": "code",
   "execution_count": 52,
   "metadata": {},
   "outputs": [
    {
     "data": {
      "text/plain": [
       "'Yasutake'"
      ]
     },
     "execution_count": 52,
     "metadata": {},
     "output_type": "execute_result"
    }
   ],
   "source": [
    "line"
   ]
  },
  {
   "cell_type": "code",
   "execution_count": 55,
   "metadata": {},
   "outputs": [
    {
     "data": {
      "text/plain": [
       "Variable containing:\n",
       " 13\n",
       "[torch.LongTensor of size 1]"
      ]
     },
     "execution_count": 55,
     "metadata": {},
     "output_type": "execute_result"
    }
   ],
   "source": [
    "Variable(torch.LongTensor([all_categories.index(category)]))"
   ]
  },
  {
   "cell_type": "code",
   "execution_count": 56,
   "metadata": {
    "collapsed": true
   },
   "outputs": [],
   "source": [
    "def random_training_pair():\n",
    "    category = random.choice(all_categories)\n",
    "    line = random.choice(category_lines[category])\n",
    "    category_tensor = Variable(torch.LongTensor([all_categories.index(category)]))\n",
    "    line_tensor = Variable(line_to_tensor(line))\n",
    "    return category,line,category_tensor,line_tensor"
   ]
  },
  {
   "cell_type": "code",
   "execution_count": 57,
   "metadata": {},
   "outputs": [
    {
     "name": "stdout",
     "output_type": "stream",
     "text": [
      "category = English / line = Anscombe\n",
      "category = Russian / line = Mulyukov\n",
      "category = Polish / line = Starek\n",
      "category = English / line = Kennell\n",
      "category = Polish / line = Zdunowski\n",
      "category = Vietnamese / line = Vo\n",
      "category = Greek / line = Tsahalis\n",
      "category = English / line = Reade\n",
      "category = Russian / line = Awtandiloff\n",
      "category = Scottish / line = Wallace\n"
     ]
    }
   ],
   "source": [
    "for i in range(10):\n",
    "    category,line,category_tensor,line_tensor = random_training_pair()\n",
    "    print(f'category = {category} / line = {line}')"
   ]
  },
  {
   "cell_type": "code",
   "execution_count": 63,
   "metadata": {
    "collapsed": true
   },
   "outputs": [],
   "source": [
    "criterion = nn.NLLLoss()"
   ]
  },
  {
   "cell_type": "code",
   "execution_count": 66,
   "metadata": {
    "collapsed": true
   },
   "outputs": [],
   "source": [
    "learning_rate = 0.0005\n",
    "optimizer = torch.optim.SGD(params= rnn.parameters(),lr=learning_rate)"
   ]
  },
  {
   "cell_type": "code",
   "execution_count": 69,
   "metadata": {
    "collapsed": true
   },
   "outputs": [],
   "source": [
    "def train(category_tensor,line_tensor):\n",
    "    rnn.zero_grad()\n",
    "    hidden = Variable(torch.zeros(1,hidden_size))\n",
    "    for i in range(line_tensor.size()[0]):\n",
    "        outp,hidden = rnn(line_tensor[i],hidden)\n",
    "    loss = criterion(outp,category_tensor)\n",
    "    loss.backward()\n",
    "    optimizer.step()\n",
    "    return outp,loss.data[0]\n",
    "    \n",
    "    "
   ]
  },
  {
   "cell_type": "code",
   "execution_count": 166,
   "metadata": {
    "collapsed": true
   },
   "outputs": [],
   "source": [
    "n_epochs = 100000\n",
    "print_every = 5000\n",
    "plot_every = 1000"
   ]
  },
  {
   "cell_type": "code",
   "execution_count": 167,
   "metadata": {
    "collapsed": true
   },
   "outputs": [],
   "source": [
    "current_loss = 0\n",
    "all_losses = []"
   ]
  },
  {
   "cell_type": "code",
   "execution_count": 168,
   "metadata": {
    "collapsed": true
   },
   "outputs": [],
   "source": [
    "def time_since(since):\n",
    "    now = time.time()\n",
    "    s = now - since\n",
    "    m = math.floor(s/60)\n",
    "    s -= m * 60\n",
    "    return f'{m}m {round(s)}s'"
   ]
  },
  {
   "cell_type": "code",
   "execution_count": 170,
   "metadata": {},
   "outputs": [
    {
     "name": "stdout",
     "output_type": "stream",
     "text": [
      "5000,5.0% , 0m 10s , 2.584 , Murphy / English ✗ Irish \n",
      "10000,10.0% , 0m 20s , 2.295 , Hartl / Arabic ✗ Czech \n",
      "15000,15.0% , 0m 30s , 2.172 , Felix / French ✓ \n",
      "20000,20.0% , 0m 40s , 2.608 , Uhlik / Korean ✗ Czech \n",
      "25000,25.0% , 0m 51s , 1.709 , Cabello / Italian ✗ Spanish \n",
      "30000,30.0% , 1m 1s , 2.291 , Bonnet / Dutch ✗ French \n",
      "35000,35.0% , 1m 11s , 2.881 , Ross / Portuguese ✗ Scottish \n",
      "40000,40.0% , 1m 21s , 4.417 , Close / French ✗ Greek \n",
      "45000,45.0% , 1m 31s , 2.674 , Bowes / Dutch ✗ English \n",
      "50000,50.0% , 1m 41s , 2.175 , Machado / Japanese ✗ Portuguese \n",
      "55000,55.00000000000001% , 1m 51s , 1.377 , An / Korean ✗ Vietnamese \n",
      "60000,60.0% , 2m 2s , 0.3375 , Okanaya / Japanese ✓ \n",
      "65000,65.0% , 2m 12s , 0.5249 , Yeon / Korean ✓ \n",
      "70000,70.0% , 2m 22s , 1.211 , Riain / Irish ✓ \n",
      "75000,75.0% , 2m 32s , 1.083 , Meeuwessen / German ✗ Dutch \n",
      "80000,80.0% , 2m 42s , 1.773 , Swatchak / Polish ✗ Czech \n",
      "85000,85.0% , 2m 52s , 1.325 , Hong / Chinese ✗ Korean \n",
      "90000,90.0% , 3m 2s , 1.302 , Campos / Portuguese ✓ \n",
      "95000,95.0% , 3m 12s , 1.944 , Clifton / Scottish ✗ English \n",
      "100000,100.0% , 3m 22s , 1.675 , Jorda / Czech ✗ Spanish \n"
     ]
    }
   ],
   "source": [
    "start = time.time()\n",
    "for epoch in range(1,n_epochs + 1):\n",
    "    category,line,category_tensor,line_tensor = random_training_pair()\n",
    "    output,loss = train(category_tensor,line_tensor)\n",
    "    current_loss += loss\n",
    "    \n",
    "    if epoch % print_every == 0:\n",
    "        guess , guess_i = category_from_tensor(output)\n",
    "        correct = '✓' if guess == category else f'✗ {category}' \n",
    "        print(f'{epoch},{(epoch/n_epochs)*100}% , {time_since(start)} , {loss:{2}.{4}} , {line} / {guess} {correct} ')\n",
    "        \n",
    "    if epoch % plot_every == 0:\n",
    "        all_losses.append(current_loss/plot_every)\n",
    "        current_loss = 0\n",
    "        "
   ]
  },
  {
   "cell_type": "code",
   "execution_count": 174,
   "metadata": {},
   "outputs": [
    {
     "data": {
      "text/plain": [
       "[<matplotlib.lines.Line2D at 0x7f2a5329a550>]"
      ]
     },
     "execution_count": 174,
     "metadata": {},
     "output_type": "execute_result"
    },
    {
     "data": {
      "image/png": "[encoded data removed]",
      "text/plain": [
       "<matplotlib.figure.Figure at 0x7f2a533490f0>"
      ]
     },
     "metadata": {},
     "output_type": "display_data"
    }
   ],
   "source": [
    "plt.figure()\n",
    "plt.plot(all_losses)"
   ]
  },
  {
   "cell_type": "code",
   "execution_count": 184,
   "metadata": {
    "collapsed": true
   },
   "outputs": [],
   "source": [
    "confusion = torch.zeros(n_categories,n_categories)\n",
    "n_confusion = 10000"
   ]
  },
  {
   "cell_type": "code",
   "execution_count": 187,
   "metadata": {
    "collapsed": true
   },
   "outputs": [],
   "source": [
    "def evaluate(line_tensor):\n",
    "    hidden = rnn.init_hidden()\n",
    "    for i in range(line_tensor.size()[0]):\n",
    "        output,hidden = rnn(line_tensor[i],hidden)\n",
    "    return output"
   ]
  },
  {
   "cell_type": "code",
   "execution_count": 188,
   "metadata": {
    "collapsed": true
   },
   "outputs": [],
   "source": [
    "for i in range(n_confusion):\n",
    "    category,line,category_tensor,line_tensor = random_training_pair()\n",
    "    output = evaluate(line_tensor)\n",
    "    guess,guess_i = category_from_tensor(output)\n",
    "    category_i = all_categories.index(category)\n",
    "    confusion[category_i][guess_i] += 1\n",
    "    "
   ]
  },
  {
   "cell_type": "code",
   "execution_count": 189,
   "metadata": {
    "collapsed": true
   },
   "outputs": [],
   "source": [
    "for i in range(n_categories):\n",
    "    confusion[i] = confusion[i]/confusion[i].sum()"
   ]
  },
  {
   "cell_type": "code",
   "execution_count": 200,
   "metadata": {},
   "outputs": [
    {
     "data": {
      "image/png": "[encoded data removed]",
      "text/plain": [
       "<matplotlib.figure.Figure at 0x7f2a5396aba8>"
      ]
     },
     "metadata": {},
     "output_type": "display_data"
    }
   ],
   "source": [
    "\n",
    "\n",
    "fig = plt.figure()\n",
    "ax = fig.add_subplot(111)\n",
    "cax = ax.matshow(confusion.numpy())\n",
    "fig.colorbar(cax)\n",
    "ax.set_xticklabels(['']+all_categories,rotation=90)\n",
    "ax.set_yticklabels(['']+all_categories)\n",
    "\n",
    "# Force label at every tick\n",
    "ax.xaxis.set_major_locator(ticker.MultipleLocator(1))\n",
    "ax.yaxis.set_major_locator(ticker.MultipleLocator(1))\n",
    "\n",
    "plt.show()"
   ]
  },
  {
   "cell_type": "code",
   "execution_count": 209,
   "metadata": {
    "collapsed": true
   },
   "outputs": [],
   "source": [
    "def predict(input_line,n_predictions=3):\n",
    "    line_tensor = Variable(line_to_tensor(input_line))\n",
    "    output = evaluate(line_tensor)\n",
    "    top_v,top_i = output.data.topk(3,1)\n",
    "    for i in range(n_predictions):\n",
    "        category = all_categories[top_i[0][i]]\n",
    "        print(f'{top_v[0][i]} category is {category}')\n",
    "        "
   ]
  },
  {
   "cell_type": "code",
   "execution_count": 210,
   "metadata": {},
   "outputs": [
    {
     "name": "stdout",
     "output_type": "stream",
     "text": [
      "-1.2183682918548584 category is Vietnamese\n",
      "-2.446791410446167 category is Japanese\n",
      "-2.478475570678711 category is Irish\n"
     ]
    }
   ],
   "source": [
    "predict('Vishnu')"
   ]
  },
  {
   "cell_type": "code",
   "execution_count": 211,
   "metadata": {},
   "outputs": [
    {
     "name": "stdout",
     "output_type": "stream",
     "text": [
      "-0.20106391608715057 category is Greek\n",
      "-3.3200879096984863 category is Irish\n",
      "-3.4487226009368896 category is Scottish\n"
     ]
    }
   ],
   "source": [
    "predict('Achillios')"
   ]
  },
  {
   "cell_type": "code",
   "execution_count": 212,
   "metadata": {},
   "outputs": [
    {
     "name": "stdout",
     "output_type": "stream",
     "text": [
      "-1.400977373123169 category is Vietnamese\n",
      "-1.696830153465271 category is Korean\n",
      "-1.72928786277771 category is Chinese\n"
     ]
    }
   ],
   "source": [
    "predict('Ada')"
   ]
  },
  {
   "cell_type": "code",
   "execution_count": null,
   "metadata": {
    "collapsed": true
   },
   "outputs": [],
   "source": []
  }
 ],
 "metadata": {
  "kernelspec": {
   "display_name": "Python 3",
   "language": "python",
   "name": "python3"
  },
  "language_info": {
   "codemirror_mode": {
    "name": "ipython",
    "version": 3
   },
   "file_extension": ".py",
   "mimetype": "text/x-python",
   "name": "python",
   "nbconvert_exporter": "python",
   "pygments_lexer": "ipython3",
   "version": "3.6.2"
  }
 },
 "nbformat": 4,
 "nbformat_minor": 2
}
